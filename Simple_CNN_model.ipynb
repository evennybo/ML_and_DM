{
  "nbformat": 4,
  "nbformat_minor": 0,
  "metadata": {
    "colab": {
      "provenance": []
    },
    "kernelspec": {
      "name": "python3",
      "display_name": "Python 3"
    },
    "language_info": {
      "name": "python"
    },
    "accelerator": "GPU",
    "gpuClass": "standard"
  },
  "cells": [
    {
      "cell_type": "code",
      "source": [
        "from google.colab import drive\n",
        "drive.mount('/content/drive/')"
      ],
      "metadata": {
        "id": "fcdxx-xsyiOK",
        "colab": {
          "base_uri": "https://localhost:8080/"
        },
        "outputId": "a857537a-d95f-4b48-8865-0c908bac0825"
      },
      "execution_count": null,
      "outputs": [
        {
          "output_type": "stream",
          "name": "stdout",
          "text": [
            "Drive already mounted at /content/drive/; to attempt to forcibly remount, call drive.mount(\"/content/drive/\", force_remount=True).\n"
          ]
        }
      ]
    },
    {
      "cell_type": "code",
      "execution_count": null,
      "metadata": {
        "id": "dDSWYCC8xyT6"
      },
      "outputs": [],
      "source": [
        "import torch\n",
        "import torch.optim as optim\n",
        "import torch.nn as nn\n",
        "import torch.nn.functional as F\n",
        "import torch.nn.init\n",
        "import torchvision.datasets as dsets\n",
        "import torchvision.transforms as transforms"
      ]
    },
    {
      "cell_type": "code",
      "source": [
        "device = 'cuda' if torch.cuda.is_available() else 'cpu'"
      ],
      "metadata": {
        "id": "Yz_In8Gvydlz"
      },
      "execution_count": null,
      "outputs": []
    },
    {
      "cell_type": "code",
      "source": [
        "#hyperparameters\n",
        "learning_rate = 0.001\n",
        "training_epochs = 20\n",
        "batch_size = 100"
      ],
      "metadata": {
        "id": "BahVgni4yfPJ"
      },
      "execution_count": null,
      "outputs": []
    },
    {
      "cell_type": "code",
      "source": [
        "train = dsets.CIFAR10(root = '/content/drive/MyDrive/CSCE464/Datasets/',\n",
        "                    train=True,\n",
        "                    transform=transforms.ToTensor(),\n",
        "                    download=True)\n",
        "test = dsets.CIFAR10(root = '/content/drive/MyDrive/CSCE464/Datasets/',\n",
        "                    train=False,\n",
        "                    transform=transforms.ToTensor(),\n",
        "                    download=True)\n"
      ],
      "metadata": {
        "id": "cTN-Z8tiyg0f",
        "colab": {
          "base_uri": "https://localhost:8080/"
        },
        "outputId": "c917e095-caec-4043-ece1-f98b882fd2c3"
      },
      "execution_count": null,
      "outputs": [
        {
          "output_type": "stream",
          "name": "stdout",
          "text": [
            "Files already downloaded and verified\n",
            "Files already downloaded and verified\n"
          ]
        }
      ]
    },
    {
      "cell_type": "code",
      "source": [
        "data_loader = torch.utils.data.DataLoader(dataset=train,\n",
        "                                          batch_size=batch_size,\n",
        "                                          shuffle=True,\n",
        "                                          drop_last=True)"
      ],
      "metadata": {
        "id": "qBERGzll2jrq"
      },
      "execution_count": null,
      "outputs": []
    },
    {
      "cell_type": "code",
      "source": [
        "test_loader = torch.utils.data.DataLoader(dataset=test,\n",
        "                                          batch_size=batch_size,\n",
        "                                          shuffle=True,\n",
        "                                          drop_last=True)"
      ],
      "metadata": {
        "id": "4IcSqGlZ6Qeb"
      },
      "execution_count": null,
      "outputs": []
    },
    {
      "cell_type": "code",
      "source": [
        "class CNN(torch.nn.Module):\n",
        "    def __init__(self):\n",
        "        super(CNN, self).__init__()\n",
        "\n",
        "        self.layer1 = torch.nn.Sequential(\n",
        "            torch.nn.Conv2d(3, 32, kernel_size=3, stride=1, padding=1),\n",
        "            torch.nn.ReLU(),\n",
        "            torch.nn.MaxPool2d(kernel_size=2, stride=2)\n",
        "        )\n",
        "\n",
        "        self.layer2 = torch.nn.Sequential(\n",
        "            torch.nn.Conv2d(32, 64, kernel_size=3, stride=1, padding=1),\n",
        "            torch.nn.ReLU(),\n",
        "            torch.nn.MaxPool2d(kernel_size=2, stride=2)\n",
        "        )\n",
        "\n",
        "        self.fc = torch.nn.Linear(8 * 8 * 64, 10)\n",
        "        torch.nn.init.xavier_uniform_(self.fc.weight)\n",
        "\n",
        "    def forward(self, x):\n",
        "        out = self.layer1(x)\n",
        "        out = self.layer2(out)\n",
        "        out = out.view(out.size(0), -1)\n",
        "        out = self.fc(out)\n",
        "        return out\n",
        "\n"
      ],
      "metadata": {
        "id": "BM6RYlSVzMgU"
      },
      "execution_count": null,
      "outputs": []
    },
    {
      "cell_type": "code",
      "source": [
        "model = CNN().to(device)"
      ],
      "metadata": {
        "id": "7dFdUCJQzVf3"
      },
      "execution_count": null,
      "outputs": []
    },
    {
      "cell_type": "code",
      "source": [
        "loss = torch.nn.CrossEntropyLoss() # Softmax is internall computed\n",
        "optimizer = torch.optim.Adam(model.parameters(), lr=learning_rate)"
      ],
      "metadata": {
        "id": "sREeenSkzWBu"
      },
      "execution_count": null,
      "outputs": []
    },
    {
      "cell_type": "code",
      "source": [
        "total_batch = len(data_loader)\n",
        "\n",
        "for epoch in range(training_epochs):\n",
        "  avg_cost = 0\n",
        "\n",
        "  for X, Y in data_loader:\n",
        "    X = X.to(device)\n",
        "    Y = Y.to(device)\n",
        "\n",
        "    optimizer.zero_grad()\n",
        "    pred = model(X).to(device)\n",
        "    cost = loss(pred, Y).to(device)\n",
        "\n",
        "    correct_prediction = torch.argmax(pred, 1) == Y\n",
        "    accuracy = correct_prediction.float().mean()\n",
        "    cost.backward()\n",
        "    optimizer.step()\n",
        "\n",
        "    avg_cost += cost / total_batch\n",
        "\n",
        "  print(\"Epoch: {:4d} / {} Cost: {:.6f} Training Accuracy: {:.2f}%\".format(epoch+1, training_epochs, cost.item(), accuracy*100))\n",
        "\n",
        "\n",
        "print(\"Learning Finished!\")"
      ],
      "metadata": {
        "id": "DJTfdMETzXcX",
        "colab": {
          "base_uri": "https://localhost:8080/"
        },
        "outputId": "d299de45-9b3a-4e2a-f4c7-84f6db81304a"
      },
      "execution_count": null,
      "outputs": [
        {
          "output_type": "stream",
          "name": "stdout",
          "text": [
            "Epoch:    1 / 20 Cost: 1.166078 Training Accuracy: 57.00%\n",
            "Epoch:    2 / 20 Cost: 1.283499 Training Accuracy: 52.00%\n",
            "Epoch:    3 / 20 Cost: 1.177776 Training Accuracy: 53.00%\n",
            "Epoch:    4 / 20 Cost: 0.891507 Training Accuracy: 76.00%\n",
            "Epoch:    5 / 20 Cost: 0.914787 Training Accuracy: 68.00%\n",
            "Epoch:    6 / 20 Cost: 0.840957 Training Accuracy: 69.00%\n",
            "Epoch:    7 / 20 Cost: 0.687658 Training Accuracy: 75.00%\n",
            "Epoch:    8 / 20 Cost: 0.913826 Training Accuracy: 71.00%\n",
            "Epoch:    9 / 20 Cost: 0.645150 Training Accuracy: 80.00%\n",
            "Epoch:   10 / 20 Cost: 0.697220 Training Accuracy: 80.00%\n",
            "Epoch:   11 / 20 Cost: 0.633527 Training Accuracy: 74.00%\n",
            "Epoch:   12 / 20 Cost: 0.617651 Training Accuracy: 79.00%\n",
            "Epoch:   13 / 20 Cost: 0.730152 Training Accuracy: 77.00%\n",
            "Epoch:   14 / 20 Cost: 0.735163 Training Accuracy: 74.00%\n",
            "Epoch:   15 / 20 Cost: 0.601157 Training Accuracy: 76.00%\n",
            "Epoch:   16 / 20 Cost: 0.689985 Training Accuracy: 77.00%\n",
            "Epoch:   17 / 20 Cost: 0.627424 Training Accuracy: 77.00%\n",
            "Epoch:   18 / 20 Cost: 0.523708 Training Accuracy: 82.00%\n",
            "Epoch:   19 / 20 Cost: 0.636433 Training Accuracy: 77.00%\n",
            "Epoch:   20 / 20 Cost: 0.506448 Training Accuracy: 83.00%\n",
            "Learning Finished!\n"
          ]
        }
      ]
    },
    {
      "cell_type": "code",
      "source": [
        "model.eval()\n",
        "with torch.no_grad():\n",
        "  for data in test_loader:\n",
        "    x_test, y_test = data[0].to(device), data[1].to(device)\n",
        "    prediction = model(x_test)\n",
        "    correct_prediction = torch.argmax(prediction, 1) == y_test\n",
        "    accuracy = correct_prediction.float().mean()\n",
        "  print('Testing Accuracy: {:.2f}%'.format(accuracy.item()*100))"
      ],
      "metadata": {
        "id": "F71anPE-zbDy",
        "colab": {
          "base_uri": "https://localhost:8080/"
        },
        "outputId": "9e7f863b-e569-482c-dcca-fc24049a9a33"
      },
      "execution_count": null,
      "outputs": [
        {
          "output_type": "stream",
          "name": "stdout",
          "text": [
            "Testing Accuracy: 74.00%\n"
          ]
        }
      ]
    }
  ]
}
